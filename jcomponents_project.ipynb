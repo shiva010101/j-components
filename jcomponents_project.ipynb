{
  "nbformat": 4,
  "nbformat_minor": 0,
  "metadata": {
    "colab": {
      "name": "Untitled3.ipynb",
      "provenance": [],
      "collapsed_sections": [],
      "authorship_tag": "ABX9TyM8+AeqEYrHPPwduB+ZH4Kn",
      "include_colab_link": true
    },
    "kernelspec": {
      "name": "python3",
      "display_name": "Python 3"
    },
    "language_info": {
      "name": "python"
    }
  },
  "cells": [
    {
      "cell_type": "markdown",
      "metadata": {
        "id": "view-in-github",
        "colab_type": "text"
      },
      "source": [
        "<a href=\"https://colab.research.google.com/github/shiva010101/j-components/blob/main/jcomponents_project.ipynb\" target=\"_parent\"><img src=\"https://colab.research.google.com/assets/colab-badge.svg\" alt=\"Open In Colab\"/></a>"
      ]
    },
    {
      "cell_type": "code",
      "source": [
        "import pandas as pd\n",
        "\n",
        "data = pd.read_csv(\"winequality-white.csv\", sep=\";\")\n",
        "\n",
        "col = data.columns\n",
        "\n",
        "y = data[\"quality\"].tolist()\n",
        "\n",
        "\n",
        "x_col = [col for col in col]\n",
        "x_col.remove(\"quality\")\n",
        "\n",
        "# values = {col: data[col].tolist() for col in x_col}\n",
        "\n",
        "# print(len(values))\n",
        "\n",
        "x = [i for i in range(0, len(x_col))]\n",
        "values = [data[col].tolist() for col in x_col]\n",
        "# print(values[])\n",
        "# val = {f\"x{i}\": \"blaa\" for i in range(0, 5)}\n",
        "# print(val)\n",
        "\n",
        "\n",
        "values = {f\"x{x}\": list_ for (x, list_) in zip(x, values)}\n",
        "\n",
        "ymean = []\n",
        "\n",
        "\n",
        "def linear(b0, b1, b2, b3, b4, b5, b6, b7, b8, b9, b10):\n",
        "    sum = 0\n",
        "    ybar = []\n",
        "    ypp = []\n",
        "    for i in range(0, len(values[\"x0\"])):\n",
        "        ybar.append(\n",
        "            b0\n",
        "            + b1 * int(values[\"x1\"][i])\n",
        "            + b2 * int(values[\"x2\"][i])\n",
        "            + b3 * int(values[\"x3\"][i])\n",
        "            + b4 * int(values[\"x4\"][i])\n",
        "            + b5 * int(values[\"x5\"][i])\n",
        "            + b6 * int(values[\"x6\"][i])\n",
        "            + b7 * int(values[\"x7\"][i])\n",
        "            + b8 * int(values[\"x8\"][i])\n",
        "            + b9 * int(values[\"x9\"][i])\n",
        "            + b10 * int(values[\"x10\"][i])\n",
        "        )\n",
        "    for i in range(0, len(values[\"x0\"])):\n",
        "        ypp.append((y[i] - ybar[i]) ** 2)\n",
        "    for i in range(0, len(values[\"x0\"])):\n",
        "        sum = sum + ypp[i]\n",
        "    ymean.append(sum / len(values[\"x0\"]))\n",
        "\n",
        "\n",
        "for i in range(0, 100):\n",
        "    linear(\n",
        "        b0=i,\n",
        "        b1=i + 1,\n",
        "        b2=i + 2,\n",
        "        b3=i + 3,\n",
        "        b4=i + 4,\n",
        "        b5=i + 5,\n",
        "        b6=i + 6,\n",
        "        b7=i + 7,\n",
        "        b8=i + 8,\n",
        "        b9=i + 9,\n",
        "        b10=i + 10,\n",
        "    )\n"
      ],
      "metadata": {
        "id": "GMvzte_OJBav"
      },
      "execution_count": 11,
      "outputs": []
    },
    {
      "cell_type": "code",
      "source": [
        "print(ymean)"
      ],
      "metadata": {
        "colab": {
          "base_uri": "https://localhost:8080/"
        },
        "id": "1klynvoSJB3m",
        "outputId": "1a100c29-6e31-4e0c-f7ad-eb6cc59b056f"
      },
      "execution_count": 12,
      "outputs": [
        {
          "output_type": "stream",
          "name": "stdout",
          "text": [
            "[1406295.8209473253, 1925174.9105757452, 2525393.775214373, 3206952.4148632097, 3969850.829522254, 4814089.019191506, 5739666.983870967, 6746584.723560637, 7834842.238260514, 9004439.5279706, 10255376.592690894, 11587653.432421397, 13001270.047162106, 14496226.436913026, 16072522.601674153, 17730158.541445486, 19469134.25622703, 21289449.746018782, 23191105.010820743, 25174100.050632913, 27238434.86545529, 29384109.455287874, 31611123.820130665, 33919477.95998367, 36309171.874846876, 38780205.564720295, 41332579.02960392, 43966292.26949775, 46681345.2844018, 49477738.07431605, 52355470.6392405, 55314542.97917517, 58354955.09412005, 61476706.98407513, 64679798.64904042, 67964230.08901593, 71330001.30400163, 74777112.29399756, 78305563.05900368, 81915353.59902, 85606483.91404656, 89378954.0040833, 93232763.86913025, 97167913.50918743, 101184402.9242548, 105282232.11433238, 109461401.07942016, 113721909.81951816, 118063758.33462638, 122486946.62474479, 126991474.68987341, 131577342.53001225, 136244550.1451613, 140993097.53532055, 145822984.70049, 150734211.64066967, 155726778.35585955, 160800684.84605962, 165955931.1112699, 171192517.1514904, 176510442.96672112, 181909708.556962, 187390313.92221314, 192952259.0624745, 198595543.977746, 204320168.66802776, 210126133.13331974, 216013437.37362188, 221982081.38893425, 228032065.17925683, 234163388.74458963, 240376052.08493263, 246670055.20028582, 253045398.09064925, 259502080.75602287, 266040103.1964067, 272659465.41180074, 279360167.402205, 286142209.1676194, 293005590.7080441, 299950312.023479, 306976373.113924, 314083773.97937936, 321272514.61984485, 328542595.0353205, 335894015.2258065, 343326775.1913026, 350840874.9318089, 358436314.44732547, 366113093.73785216, 373871212.80338913, 381710671.6439363, 389631470.25949365, 397633608.65006125, 405717086.815639, 413881904.756227, 422128062.47182524, 430455559.96243364, 438864397.22805226, 447354574.2686811]\n"
          ]
        }
      ]
    },
    {
      "cell_type": "code",
      "source": [
        "c = 0\n",
        "if ymean[0] < ymean[1]:\n",
        "    result = ymean[0]\n",
        "else:\n",
        "    result = ymean[1]\n",
        "for i in range(0, len(ymean)):\n",
        "    if result > ymean[i]:\n",
        "        result = ymen[i]\n",
        "        c = i\n",
        "print(\"Lowest mean square error is :\", result)\n",
        "\n",
        "\n",
        "print(\"Best beta values which has less mean square error is:\")\n",
        "print(\n",
        "    c,\n",
        "    c + 2,\n",
        "    c + 3,\n",
        "    c + 4,\n",
        "    c + 5,\n",
        "    c + 6,\n",
        "    c + 7,\n",
        "    c + 8,\n",
        "    c + 9,\n",
        "    c + 10,\n",
        "    c + 11,\n",
        "    c + 12,\n",
        "    c + 13,\n",
        "    c + 14,\n",
        ")"
      ],
      "metadata": {
        "colab": {
          "base_uri": "https://localhost:8080/"
        },
        "id": "LqQRa0MFJB-Q",
        "outputId": "5af9b412-4022-4612-f68a-99d85d9c93b0"
      },
      "execution_count": 15,
      "outputs": [
        {
          "output_type": "stream",
          "name": "stdout",
          "text": [
            "Lowest mean square error is : 1406295.8209473253\n",
            "Best beta values which has less mean square error is:\n",
            "0 2 3 4 5 6 7 8 9 10 11 12 13 14\n"
          ]
        }
      ]
    },
    {
      "cell_type": "code",
      "source": [
        "print(\"The equation for given x values which has less mean square error is\")\n",
        "\n",
        "\n",
        "def result(b0, b1, b2, b3, b4, b5, b6, b7, b8, b9, b10):\n",
        "    print(\n",
        "        \"Ypp\",\n",
        "        \"=\",\n",
        "        b0,\n",
        "        \"+\",\n",
        "        b1,\n",
        "        \"+\",\n",
        "        b2,\n",
        "        \"x2\",\n",
        "        \"+\",\n",
        "        b3,\n",
        "        \"x3\",\n",
        "        \"+\",\n",
        "        b4,\n",
        "        \"x4\",\n",
        "        \"+\",\n",
        "        b5,\n",
        "        \"x5\",\n",
        "        \"+\",\n",
        "        b6,\n",
        "        \"x6\",\n",
        "        \"+\",\n",
        "        b7,\n",
        "        \"x7\",\n",
        "        \"+\",\n",
        "        b8,\n",
        "        \"x8\",\n",
        "        \"+\",\n",
        "        b9,\n",
        "        \"x9\",\n",
        "        \"+\",\n",
        "        b10,\n",
        "    )\n",
        "\n",
        "\n",
        "result(c, c + 1, c + 2, c + 3, c + 4, c + 5, c + 6, c + 7, c + 8, c + 9, c + 10)\n"
      ],
      "metadata": {
        "colab": {
          "base_uri": "https://localhost:8080/"
        },
        "id": "0aKhEMa2JCFl",
        "outputId": "0e46d501-91b9-4abf-f276-355a32a941f4"
      },
      "execution_count": 14,
      "outputs": [
        {
          "output_type": "stream",
          "name": "stdout",
          "text": [
            "The equation for given x values which has less mean square error is\n",
            "Ypp = 0 + 1 + 2 x2 + 3 x3 + 4 x4 + 5 x5 + 6 x6 + 7 x7 + 8 x8 + 9 x9 + 10\n"
          ]
        }
      ]
    }
  ]
}